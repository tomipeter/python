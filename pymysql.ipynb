{
 "cells": [
  {
   "cell_type": "code",
   "execution_count": 2,
   "metadata": {
    "collapsed": false,
    "deletable": true,
    "editable": true
   },
   "outputs": [],
   "source": [
    "#!/usr/bin/python3\n",
    "import pymysql\n",
    "\n",
    "# Open database connection\n",
    "db = pymysql.connect(\"localhost\",\"airbnb\",\"Airbnb@4321!\",\"airbnb\")"
   ]
  },
  {
   "cell_type": "code",
   "execution_count": 5,
   "metadata": {
    "collapsed": false,
    "deletable": true,
    "editable": true
   },
   "outputs": [],
   "source": [
    "#!/usr/bin/python3\n",
    "import pymysql\n",
    "\n",
    "# Open database connection\n",
    "db = pymysql.connect(\"localhost\",\"airbnb\",\"Airbnb@4321!\",\"airbnb\")\n",
    "\n",
    "# prepare a cursor object using cursor() method\n",
    "cursor = db.cursor()\n",
    "\n",
    "\n",
    "# Drop table if it already exist using execute() method.\n",
    "cursor.execute(\"DROP TABLE IF EXISTS NPS\")\n",
    "\n",
    "# Create table as per requirement\n",
    "sql = \"\"\"create TABLE NPS (\t\t\t\n",
    "Name varchar(100) not null,\n",
    "Customer_Id varchar(100) not null,\n",
    "Lantern_URL varchar(100) not null,\n",
    "Responsedate varchar(100) not null,\n",
    "Email varchar(100) not null,\n",
    "Agent varchar(100) not null,\n",
    "Recommend_Airbnb varchar(100) not null,\n",
    "reason_LTR text,\n",
    "EnglishTranslation text,\n",
    "FriendlyCrewbie varchar(100),\n",
    "KnowledgeableCrewbie varchar(100),\n",
    "PersonalizedCrewbie varchar(100),\n",
    "Alert_description varchar(100),\n",
    "Status_of_alert\tvarchar(100),\n",
    "Alert_closed_by\tvarchar(100),\n",
    "Alert_close_time varchar(100),\n",
    "Region varchar(100) not null,\n",
    "Site varchar(100) not null,\n",
    "OM varchar(100) not null,\n",
    "Lead varchar(100) not null,\n",
    "SurveyLanguage varchar(100) not null,\n",
    "Call_As varchar(100) not null,\n",
    "Resolved_Inquiry varchar(100) not null,\n",
    "Tier_Ticket_Type varchar(100) not null,\n",
    "IssueType varchar(100) not null,\n",
    "InteractionCategory_Full varchar(100) not null,\n",
    "InteractionCategory varchar(100) not null,\n",
    "CX_Channel varchar(100) not null,\n",
    "Giraffe\tvarchar(100) not null,\n",
    "mobiledevice varchar(100) not null,\n",
    "viewed_on_mobile varchar(100) not null,\n",
    "Followup_Ticket_Created varchar(100),\n",
    "please_enter_ticket_number varchar(100),\n",
    "NPS_Call_Success varchar(100),\n",
    "Was_the_ticket_prematurely_solved varchar(100),\n",
    "Appropriate_Investment varchar(100),\n",
    "Appropriate_Investment_Comment varchar(100),\n",
    "Root_Cause varchar(100),\n",
    "Root_Cause_Comment varchar(100),\n",
    "Did_this_concern_a_hospitality_issue varchar(100),\n",
    "Was_this_a_FirstTime_User varchar(100),\n",
    "Was_the_Issue_Truly_Resolved varchar(100),\n",
    "Call_Recording_ID text\n",
    ")\n",
    "\"\"\"\n",
    "\n",
    "cursor.execute(sql)\n",
    "\n",
    "# disconnect from server\n",
    "db.close()\n"
   ]
  },
  {
   "cell_type": "code",
   "execution_count": null,
   "metadata": {
    "collapsed": true,
    "deletable": true,
    "editable": true
   },
   "outputs": [],
   "source": []
  }
 ],
 "metadata": {
  "kernelspec": {
   "display_name": "Python 3",
   "language": "python",
   "name": "python3"
  }
 },
 "nbformat": 4,
 "nbformat_minor": 2
}
